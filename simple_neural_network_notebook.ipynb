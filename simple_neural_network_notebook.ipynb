{
 "cells": [
  {
   "cell_type": "code",
   "execution_count": 1,
   "id": "54e2e879-8f6c-46ee-8ec2-6120f765c3c3",
   "metadata": {},
   "outputs": [
    {
     "name": "stdout",
     "output_type": "stream",
     "text": [
      "Requirement already satisfied: nnfs in c:\\programdata\\anaconda3\\lib\\site-packages (0.5.1)\n",
      "Requirement already satisfied: numpy in c:\\programdata\\anaconda3\\lib\\site-packages (from nnfs) (1.26.4)\n"
     ]
    }
   ],
   "source": [
    "!pip install nnfs\n",
    "from main import main"
   ]
  },
  {
   "cell_type": "code",
   "execution_count": 13,
   "id": "4d58980f-afb2-449f-bb46-ea238eaeb8fe",
   "metadata": {},
   "outputs": [
    {
     "name": "stdout",
     "output_type": "stream",
     "text": [
      "[[0.08333334 0.08333334 0.08333334 0.08333334 0.08333334 0.08333334\n",
      "  0.08333334 0.08333334 0.08333334 0.08333334 0.08333334 0.08333334]\n",
      " [0.08333337 0.08333341 0.08333337 0.08333332 0.08333326 0.0833334\n",
      "  0.08333325 0.08333347 0.08333329 0.08333331 0.08333329 0.08333326]\n",
      " [0.0833334  0.08333342 0.08333337 0.08333344 0.08333337 0.0833334\n",
      "  0.08333325 0.08333336 0.08333323 0.0833333  0.08333323 0.08333332]\n",
      " [0.08333342 0.08333346 0.08333339 0.0833334  0.08333329 0.08333343\n",
      "  0.08333318 0.08333345 0.0833332  0.08333327 0.08333319 0.08333325]\n",
      " [0.08333354 0.08333378 0.08333356 0.0833332  0.0833329  0.08333373\n",
      "  0.08333284 0.08333413 0.08333312 0.08333316 0.0833331  0.08333291]]\n",
      "Loss:  2.4848828\n",
      "Accuracy:  0.043333333333333335\n"
     ]
    }
   ],
   "source": [
    "main()"
   ]
  },
  {
   "cell_type": "code",
   "execution_count": null,
   "id": "9444101e-cca4-44bd-8c7f-76f0a1fb4c14",
   "metadata": {},
   "outputs": [],
   "source": []
  }
 ],
 "metadata": {
  "kernelspec": {
   "display_name": "Python 3 (ipykernel)",
   "language": "python",
   "name": "python3"
  },
  "language_info": {
   "codemirror_mode": {
    "name": "ipython",
    "version": 3
   },
   "file_extension": ".py",
   "mimetype": "text/x-python",
   "name": "python",
   "nbconvert_exporter": "python",
   "pygments_lexer": "ipython3",
   "version": "3.11.7"
  }
 },
 "nbformat": 4,
 "nbformat_minor": 5
}
