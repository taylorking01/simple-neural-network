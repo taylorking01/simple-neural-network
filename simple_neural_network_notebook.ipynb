{
 "cells": [
  {
   "cell_type": "code",
   "execution_count": 1,
   "id": "54e2e879-8f6c-46ee-8ec2-6120f765c3c3",
   "metadata": {},
   "outputs": [
    {
     "name": "stdout",
     "output_type": "stream",
     "text": [
      "Requirement already satisfied: nnfs in c:\\programdata\\anaconda3\\lib\\site-packages (0.5.1)\n",
      "Requirement already satisfied: numpy in c:\\programdata\\anaconda3\\lib\\site-packages (from nnfs) (1.26.4)\n"
     ]
    }
   ],
   "source": [
    "!pip install nnfs\n",
    "from main import main"
   ]
  },
  {
   "cell_type": "code",
   "execution_count": 2,
   "id": "4d58980f-afb2-449f-bb46-ea238eaeb8fe",
   "metadata": {},
   "outputs": [
    {
     "name": "stdout",
     "output_type": "stream",
     "text": [
      "[[0.08333334 0.08333334 0.08333334 0.08333334 0.08333334 0.08333334\n",
      "  0.08333334 0.08333334 0.08333334 0.08333334 0.08333334 0.08333334]\n",
      " [0.08333334 0.08333334 0.08333328 0.08333327 0.08333337 0.08333326\n",
      "  0.08333324 0.08333331 0.08333333 0.08333356 0.08333328 0.08333344]\n",
      " [0.08333334 0.08333334 0.08333317 0.08333315 0.08333344 0.08333313\n",
      "  0.08333306 0.08333328 0.08333332 0.08333396 0.08333318 0.08333361]\n",
      " [0.08333336 0.08333333 0.08333307 0.08333303 0.08333351 0.08333299\n",
      "  0.08333288 0.08333325 0.08333331 0.08333437 0.08333308 0.0833338 ]\n",
      " [0.08333337 0.08333334 0.08333298 0.08333293 0.08333357 0.08333287\n",
      "  0.08333272 0.08333322 0.08333331 0.08333475 0.08333299 0.08333397]]\n",
      "Loss:  2.4849124\n"
     ]
    }
   ],
   "source": [
    "main()"
   ]
  },
  {
   "cell_type": "code",
   "execution_count": null,
   "id": "9444101e-cca4-44bd-8c7f-76f0a1fb4c14",
   "metadata": {},
   "outputs": [],
   "source": []
  }
 ],
 "metadata": {
  "kernelspec": {
   "display_name": "Python 3 (ipykernel)",
   "language": "python",
   "name": "python3"
  },
  "language_info": {
   "codemirror_mode": {
    "name": "ipython",
    "version": 3
   },
   "file_extension": ".py",
   "mimetype": "text/x-python",
   "name": "python",
   "nbconvert_exporter": "python",
   "pygments_lexer": "ipython3",
   "version": "3.11.7"
  }
 },
 "nbformat": 4,
 "nbformat_minor": 5
}
