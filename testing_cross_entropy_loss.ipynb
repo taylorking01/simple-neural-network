{
 "cells": [
  {
   "cell_type": "code",
   "execution_count": 1,
   "id": "5b9d0ba2-0080-49bd-9f2b-823e3108652d",
   "metadata": {},
   "outputs": [],
   "source": [
    "import numpy as np"
   ]
  },
  {
   "cell_type": "code",
   "execution_count": 2,
   "id": "527301d6-d6e9-44aa-809b-5c315de79474",
   "metadata": {},
   "outputs": [
    {
     "name": "stdout",
     "output_type": "stream",
     "text": [
      "[0.7 0.5 0.9]\n"
     ]
    }
   ],
   "source": [
    "softmax_outputs = np.array([[0.7,0.1,0.2],[0.1,0.5,0.4],[0.02,0.9,0.08]])\n",
    "class_targets = [0,1,1]\n",
    "print(softmax_outputs[range(len(class_targets)), class_targets])"
   ]
  },
  {
   "cell_type": "code",
   "execution_count": 3,
   "id": "4a53d834-71d3-4698-9160-00dcb86626c6",
   "metadata": {},
   "outputs": [
    {
     "name": "stdout",
     "output_type": "stream",
     "text": [
      "Negative log:  [0.35667494 0.69314718 0.10536052]\n"
     ]
    }
   ],
   "source": [
    "negative_log = -np.log(softmax_outputs[range(len(softmax_outputs)), class_targets])\n",
    "print(\"Negative log: \", negative_log)"
   ]
  },
  {
   "cell_type": "code",
   "execution_count": 4,
   "id": "687758c1-daaf-40c1-8c11-34578ddf7512",
   "metadata": {},
   "outputs": [
    {
     "name": "stdout",
     "output_type": "stream",
     "text": [
      "Average loss:  0.38506088005216804\n"
     ]
    }
   ],
   "source": [
    "average_loss = np.mean(negative_log)\n",
    "print(\"Average loss: \", average_loss)"
   ]
  },
  {
   "cell_type": "code",
   "execution_count": 5,
   "id": "0ce1af17-f9a3-4954-b935-480ac756f321",
   "metadata": {},
   "outputs": [
    {
     "name": "stdout",
     "output_type": "stream",
     "text": [
      "[[0.7 0.  0. ]\n",
      " [0.  0.5 0. ]\n",
      " [0.  0.9 0. ]]\n"
     ]
    }
   ],
   "source": [
    "y_true_check = np.array([\n",
    "    [1,0,0],\n",
    "    [0,1,0],\n",
    "    [0,1,0]\n",
    "])\n",
    "\n",
    "y_pred_clipped_check = np.array([\n",
    "    [0.7,0.2,0.1],\n",
    "    [0.1,0.5,0.4],\n",
    "    [0.02,0.9,0.08]\n",
    "])\n",
    "\n",
    "A = y_true_check*y_pred_clipped_check #Element-wise multiplication\n",
    "print(A)"
   ]
  },
  {
   "cell_type": "code",
   "execution_count": 6,
   "id": "0eda21e1-25cc-4169-9c95-7a257ba823d9",
   "metadata": {},
   "outputs": [
    {
     "name": "stdout",
     "output_type": "stream",
     "text": [
      "[0.7 0.5 0.9]\n"
     ]
    }
   ],
   "source": [
    "B = np.sum(A, axis=1)\n",
    "print(B)"
   ]
  },
  {
   "cell_type": "code",
   "execution_count": 7,
   "id": "cf877d4e-a06f-4a6e-b4e2-5184ee820f46",
   "metadata": {},
   "outputs": [
    {
     "name": "stdout",
     "output_type": "stream",
     "text": [
      "[0.35667494 0.69314718 0.10536052]\n"
     ]
    }
   ],
   "source": [
    "C = -np.log(B)\n",
    "print(C)"
   ]
  },
  {
   "cell_type": "code",
   "execution_count": 8,
   "id": "ae1bba72-94af-42c7-a8ac-8da77f734a95",
   "metadata": {},
   "outputs": [
    {
     "name": "stdout",
     "output_type": "stream",
     "text": [
      "0.38506088005216804\n"
     ]
    }
   ],
   "source": [
    "print(np.mean(C))"
   ]
  },
  {
   "cell_type": "code",
   "execution_count": null,
   "id": "9960daad-dc17-4f1b-b698-c51f17dc79ba",
   "metadata": {},
   "outputs": [],
   "source": []
  }
 ],
 "metadata": {
  "kernelspec": {
   "display_name": "Python 3 (ipykernel)",
   "language": "python",
   "name": "python3"
  },
  "language_info": {
   "codemirror_mode": {
    "name": "ipython",
    "version": 3
   },
   "file_extension": ".py",
   "mimetype": "text/x-python",
   "name": "python",
   "nbconvert_exporter": "python",
   "pygments_lexer": "ipython3",
   "version": "3.11.7"
  }
 },
 "nbformat": 4,
 "nbformat_minor": 5
}
